{
  "nbformat": 4,
  "nbformat_minor": 0,
  "metadata": {
    "colab": {
      "name": "Spacy3_NER.ipynb",
      "provenance": [],
      "collapsed_sections": [
        "Ob4cftwtQVaT"
      ],
      "authorship_tag": "ABX9TyOZA6O8MDT5BheYVGRJr+Ys",
      "include_colab_link": true
    },
    "kernelspec": {
      "name": "python3",
      "display_name": "Python 3"
    },
    "accelerator": "GPU"
  },
  "cells": [
    {
      "cell_type": "markdown",
      "metadata": {
        "id": "view-in-github",
        "colab_type": "text"
      },
      "source": [
        "<a href=\"https://colab.research.google.com/github/Akshayextreme/SpacyV3/blob/main/Spacy3_NER.ipynb\" target=\"_parent\"><img src=\"https://colab.research.google.com/assets/colab-badge.svg\" alt=\"Open In Colab\"/></a>"
      ]
    },
    {
      "cell_type": "markdown",
      "metadata": {
        "id": "YLTNZES-IhxI"
      },
      "source": [
        "[![Built with spaCy](https://img.shields.io/badge/built%20with-spaCy-09a3d5.svg)](https://spacy.io)"
      ]
    },
    {
      "cell_type": "markdown",
      "metadata": {
        "id": "HSProTOmQotA"
      },
      "source": [
        "### Spacy project"
      ]
    },
    {
      "cell_type": "code",
      "metadata": {
        "id": "CxLXftxg_GmA"
      },
      "source": [
        "!nvcc --version"
      ],
      "execution_count": null,
      "outputs": []
    },
    {
      "cell_type": "code",
      "metadata": {
        "id": "2TFKqjyTku0U"
      },
      "source": [
        "!pip install -U spacy[cuda101] spacy-transformers"
      ],
      "execution_count": null,
      "outputs": []
    },
    {
      "cell_type": "code",
      "metadata": {
        "colab": {
          "base_uri": "https://localhost:8080/"
        },
        "id": "SKK5b6hlZ_LX",
        "outputId": "4e0cc8f1-11c3-4491-fcd1-5cab4f53cb1a"
      },
      "source": [
        "import spacy\r\n",
        "spacy.prefer_gpu()"
      ],
      "execution_count": 3,
      "outputs": [
        {
          "output_type": "execute_result",
          "data": {
            "text/plain": [
              "True"
            ]
          },
          "metadata": {
            "tags": []
          },
          "execution_count": 3
        }
      ]
    },
    {
      "cell_type": "code",
      "metadata": {
        "colab": {
          "base_uri": "https://localhost:8080/",
          "height": 34
        },
        "id": "qUXDXs2vasQA",
        "outputId": "da05073f-2b78-4e5a-ee89-fd2405fb21ed"
      },
      "source": [
        "spacy.__version__"
      ],
      "execution_count": 4,
      "outputs": [
        {
          "output_type": "execute_result",
          "data": {
            "application/vnd.google.colaboratory.intrinsic+json": {
              "type": "string"
            },
            "text/plain": [
              "'3.0.3'"
            ]
          },
          "metadata": {
            "tags": []
          },
          "execution_count": 4
        }
      ]
    },
    {
      "cell_type": "code",
      "metadata": {
        "colab": {
          "base_uri": "https://localhost:8080/"
        },
        "id": "jnJXhNNLnZfV",
        "outputId": "6abc633f-d7fa-41e0-a8f9-5c46b9ed783b"
      },
      "source": [
        "!python -m spacy project clone tutorials/ner_drugs"
      ],
      "execution_count": 5,
      "outputs": [
        {
          "output_type": "stream",
          "text": [
            "2021-02-23 13:09:21.036107: I tensorflow/stream_executor/platform/default/dso_loader.cc:49] Successfully opened dynamic library libcudart.so.10.1\n",
            "\u001b[38;5;2m✔ Cloned 'tutorials/ner_drugs' from explosion/projects\u001b[0m\n",
            "/content/ner_drugs\n",
            "\u001b[38;5;2m✔ Your project is now ready!\u001b[0m\n",
            "To fetch the assets, run:\n",
            "python -m spacy project assets /content/ner_drugs\n"
          ],
          "name": "stdout"
        }
      ]
    },
    {
      "cell_type": "code",
      "metadata": {
        "colab": {
          "base_uri": "https://localhost:8080/"
        },
        "id": "loyXNapJ1OO8",
        "outputId": "64d1ead8-1126-4a3e-c81b-d4fce738335b"
      },
      "source": [
        "cd ner_drugs/"
      ],
      "execution_count": 6,
      "outputs": [
        {
          "output_type": "stream",
          "text": [
            "/content/ner_drugs\n"
          ],
          "name": "stdout"
        }
      ]
    },
    {
      "cell_type": "markdown",
      "metadata": {
        "id": "oHT-jTbdKYCK"
      },
      "source": [
        "- Download `base_config.cfg` file from [quickstart](https://spacy.io/usage/training#quickstart) by selecting appropriate parameters\r\n",
        "- Upload `base_config.cfg` file at `/content/ner_drgus/configs` path\r\n",
        "- Add `-g 0` flag in `project.yml` file in training and evaluation script section for GPU"
      ]
    },
    {
      "cell_type": "code",
      "metadata": {
        "colab": {
          "base_uri": "https://localhost:8080/"
        },
        "id": "4debfFT-AcN8",
        "outputId": "b30e302b-3190-4f03-feef-b74979dabb5d"
      },
      "source": [
        "!python -m spacy init fill-config ./configs/base_config.cfg ./configs/config.cfg"
      ],
      "execution_count": 7,
      "outputs": [
        {
          "output_type": "stream",
          "text": [
            "2021-02-23 13:10:18.482320: I tensorflow/stream_executor/platform/default/dso_loader.cc:49] Successfully opened dynamic library libcudart.so.10.1\n",
            "\u001b[38;5;2m✔ Auto-filled config with all values\u001b[0m\n",
            "\u001b[38;5;2m✔ Saved config\u001b[0m\n",
            "configs/config.cfg\n",
            "You can now add your data and train your pipeline:\n",
            "python -m spacy train config.cfg --paths.train ./train.spacy --paths.dev ./dev.spacy\n"
          ],
          "name": "stdout"
        }
      ]
    },
    {
      "cell_type": "code",
      "metadata": {
        "colab": {
          "base_uri": "https://localhost:8080/"
        },
        "id": "Xd3rh5mln_0L",
        "outputId": "91f8a152-bc2b-4f24-89e5-fd952adb93ad"
      },
      "source": [
        "!python -m spacy project run all"
      ],
      "execution_count": 11,
      "outputs": [
        {
          "output_type": "stream",
          "text": [
            "2021-02-23 13:35:26.601452: I tensorflow/stream_executor/platform/default/dso_loader.cc:49] Successfully opened dynamic library libcudart.so.10.1\n",
            "\u001b[38;5;4mℹ Running workflow 'all'\u001b[0m\n",
            "\u001b[1m\n",
            "================================= preprocess =================================\u001b[0m\n",
            "\u001b[38;5;4mℹ Skipping 'preprocess': nothing changed\u001b[0m\n",
            "\u001b[1m\n",
            "=================================== train ===================================\u001b[0m\n",
            "Running command: /usr/bin/python3 -m spacy train configs/config.cfg --output training/ --paths.train corpus/drugs_training.spacy --paths.dev corpus/drugs_eval.spacy -g 0\n",
            "2021-02-23 13:35:29.548870: I tensorflow/stream_executor/platform/default/dso_loader.cc:49] Successfully opened dynamic library libcudart.so.10.1\n",
            "\u001b[38;5;4mℹ Using GPU: 0\u001b[0m\n",
            "\u001b[1m\n",
            "=========================== Initializing pipeline ===========================\u001b[0m\n",
            "Set up nlp object from config\n",
            "Pipeline: ['transformer', 'ner']\n",
            "Created vocabulary\n",
            "Finished initializing nlp object\n",
            "Initialized pipeline components: ['transformer', 'ner']\n",
            "\u001b[38;5;2m✔ Initialized pipeline\u001b[0m\n",
            "\u001b[1m\n",
            "============================= Training pipeline =============================\u001b[0m\n",
            "\u001b[38;5;4mℹ Pipeline: ['transformer', 'ner']\u001b[0m\n",
            "\u001b[38;5;4mℹ Initial learn rate: 0.0\u001b[0m\n",
            "E    #       LOSS TRANS...  LOSS NER  ENTS_F  ENTS_P  ENTS_R  SCORE \n",
            "---  ------  -------------  --------  ------  ------  ------  ------\n",
            "  0       0        8348.03    447.04    0.15    0.10    0.28    0.00\n",
            "  1      50      221206.24  27705.80    0.00    0.00    0.00    0.00\n",
            "  2     100         755.75   1553.40   69.61   61.22   80.66    0.70\n",
            "  3     150         335.39    653.95   76.07   71.53   81.22    0.76\n",
            "  4     200         229.79    435.07   75.09   69.23   82.04    0.75\n",
            "\u001b[38;5;2m✔ Saved pipeline to output directory\u001b[0m\n",
            "training/model-last\n",
            "\u001b[1m\n",
            "================================== evaluate ==================================\u001b[0m\n",
            "Running command: /usr/bin/python3 -m spacy evaluate training/model-best corpus/drugs_eval.spacy --output training/metrics.json\n",
            "2021-02-23 13:37:54.731431: I tensorflow/stream_executor/platform/default/dso_loader.cc:49] Successfully opened dynamic library libcudart.so.10.1\n",
            "\u001b[38;5;4mℹ Using CPU\u001b[0m\n",
            "\u001b[1m\n",
            "================================== Results ==================================\u001b[0m\n",
            "\n",
            "TOK     99.99\n",
            "NER P   71.53\n",
            "NER R   81.22\n",
            "NER F   76.07\n",
            "SPEED   347  \n",
            "\n",
            "\u001b[1m\n",
            "=============================== NER (per type) ===============================\u001b[0m\n",
            "\n",
            "           P       R       F\n",
            "DRUG   71.53   81.22   76.07\n",
            "\n",
            "\u001b[38;5;2m✔ Saved results to training/metrics.json\u001b[0m\n"
          ],
          "name": "stdout"
        }
      ]
    },
    {
      "cell_type": "markdown",
      "metadata": {
        "id": "7P64PND9fKmW"
      },
      "source": [
        "### Inference"
      ]
    },
    {
      "cell_type": "code",
      "metadata": {
        "id": "WbqGaRSnVu3h"
      },
      "source": [
        "!python -m spacy project run package"
      ],
      "execution_count": null,
      "outputs": []
    },
    {
      "cell_type": "code",
      "metadata": {
        "id": "eKD5aNsqakYn"
      },
      "source": [
        "#!pip install /content/ner_drugs/packages/en_ner_drugs-0.0.0/dist/en_ner_drugs-0.0.0.tar.gz\r\n",
        "#nlp = spacy.load(\"en_ner_drugs-0.0.0\")\r\n",
        "\r\n",
        "nlp = spacy.load(\"/content/ner_drugs/packages/en_ner_drugs-0.0.0/en_ner_drugs/en_ner_drugs-0.0.0\")"
      ],
      "execution_count": 22,
      "outputs": []
    },
    {
      "cell_type": "code",
      "metadata": {
        "id": "N5G0R1ZEb96r"
      },
      "source": [
        "doc = nlp(\"This is a Becozinc tablet.\")"
      ],
      "execution_count": 27,
      "outputs": []
    },
    {
      "cell_type": "code",
      "metadata": {
        "colab": {
          "base_uri": "https://localhost:8080/"
        },
        "id": "iDEOpx61cHGu",
        "outputId": "988f08db-3f05-4935-b912-8463c283dd9e"
      },
      "source": [
        "for entity in doc.ents:\r\n",
        "    print(entity.text, entity.label_)"
      ],
      "execution_count": 28,
      "outputs": [
        {
          "output_type": "stream",
          "text": [
            "Becozinc DRUG\n"
          ],
          "name": "stdout"
        }
      ]
    }
  ]
}